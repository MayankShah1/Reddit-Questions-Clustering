{
 "cells": [
  {
   "cell_type": "markdown",
   "metadata": {},
   "source": [
    "# Data Extraction and Cleaning\n",
    "\n",
    "\n",
    "I have used the python wrapper for Reddit API ie. [PRAW](https://praw.readthedocs.io/en/latest/) package for extracting the data from Reddit.\n",
    "\n",
    "The steps are from the [Sentdex's tutorial on PRAW](https://pythonprogramming.net/introduction-python-reddit-api-wrapper-praw-tutorial/).\n",
    "\n",
    "Steps:\n",
    "\n",
    "### 1. Importing the libraries\n",
    "\n",
    "    (a.) praw - wrapper for Reddit API\n",
    "    \n",
    "    (b.) time - as Reddit API allows only 60 API requests per minute, hence to avoid overusage and effectively extract information in a batched manner\n",
    "    \n",
    "### 2. Creating the Reddit API instance \n",
    "    \n",
    "    Create an app on Reddit and use the credentials for creating the Reddit API instance.\n",
    "    \n",
    "### 3. Extract the data\n",
    "\n",
    "    Extract the data using the subreddit method, and then extract the hot questions using the hot method.\n",
    "    \n",
    "    Further the non-stickied questions are extracted and saved in a file"
   ]
  },
  {
   "cell_type": "markdown",
   "metadata": {},
   "source": [
    "## Step 1: Importing the libraries"
   ]
  },
  {
   "cell_type": "code",
   "execution_count": 1,
   "metadata": {
    "collapsed": true
   },
   "outputs": [],
   "source": [
    "# Importing the libraries\n",
    "import praw\n",
    "import time"
   ]
  },
  {
   "cell_type": "markdown",
   "metadata": {},
   "source": [
    "## Step 2: Creating the Reddit API instance"
   ]
  },
  {
   "cell_type": "code",
   "execution_count": 2,
   "metadata": {
    "collapsed": true
   },
   "outputs": [],
   "source": [
    "# Creating a Reddit API instance \n",
    "reddit = praw.Reddit(client_id= 'client_id',\n",
    "                    client_secret= 'secret_key',\n",
    "                    username= 'user_name',\n",
    "                    password= 'password',\n",
    "                    user_agent= 'unique_name')"
   ]
  },
  {
   "cell_type": "markdown",
   "metadata": {},
   "source": [
    "## Step 3: Extracting the Data"
   ]
  },
  {
   "cell_type": "code",
   "execution_count": 3,
   "metadata": {
    "collapsed": true
   },
   "outputs": [],
   "source": [
    "# Pulling the data \n",
    "# Pulling the hottest 500 questions\n",
    "\n",
    "subreddit = reddit.subreddit('AskReddit')\n",
    "top_askreddit = subreddit.hot(limit=500)"
   ]
  },
  {
   "cell_type": "code",
   "execution_count": 4,
   "metadata": {},
   "outputs": [
    {
     "name": "stdout",
     "output_type": "stream",
     "text": [
      "No of questions : 500\n"
     ]
    }
   ],
   "source": [
    "# Converting to list in order to avoid over usage of Reddit API\n",
    "\n",
    "top_list = list(top_askreddit)\n",
    "print('No of questions : {}'.format(len(top_list)))"
   ]
  },
  {
   "cell_type": "code",
   "execution_count": 5,
   "metadata": {
    "collapsed": true
   },
   "outputs": [],
   "source": [
    "cleaned_questions = []"
   ]
  },
  {
   "cell_type": "code",
   "execution_count": 6,
   "metadata": {},
   "outputs": [
    {
     "name": "stdout",
     "output_type": "stream",
     "text": [
      "Batch 0 completed: \n",
      "Batch 30 completed: \n",
      "Batch 60 completed: \n",
      "Batch 90 completed: \n",
      "Batch 120 completed: \n",
      "Batch 150 completed: \n",
      "Batch 180 completed: \n",
      "Batch 210 completed: \n",
      "Batch 240 completed: \n",
      "Batch 270 completed: \n",
      "Batch 300 completed: \n",
      "Batch 330 completed: \n",
      "Batch 360 completed: \n",
      "Batch 390 completed: \n",
      "Batch 420 completed: \n",
      "Batch 450 completed: \n",
      "Batch 480 completed: \n"
     ]
    }
   ],
   "source": [
    "_size = 30\n",
    "\n",
    "for _index in range(0, len(top_list), 30):\n",
    "    for i in range(_size):\n",
    "        if i + _index < len(top_list):\n",
    "            if not top_list[i + _index].stickied:\n",
    "                cleaned_questions.append(top_list[i + _index].title)\n",
    "    print('Batch {} completed: '.format(_index))\n",
    "    time.sleep(60)"
   ]
  },
  {
   "cell_type": "markdown",
   "metadata": {},
   "source": [
    "**Note**: This step will take time because we can send only 60 API requests in a minute.\n",
    "\n",
    "So grab a cup of coffee! or have a nap ;)"
   ]
  },
  {
   "cell_type": "code",
   "execution_count": 9,
   "metadata": {},
   "outputs": [
    {
     "name": "stdout",
     "output_type": "stream",
     "text": [
      "['What are life’s toughest mini games?', 'What are some slang terms a 50 year old dad can say to his daughter to embarrass her?', 'Redditors who were in attendance at a wedding that was called off mid-ceremony, what was the story?', 'What are your best “first date tips” for somebody starting the dating game late in life (late 20’s +)?', 'Chefs of Reddit, what are the biggest ripoffs that your restaurants sell?', 'The year is 2050. How do you think you would complete the sentence: \"Back in my day, we didn\\'t have ...\"?', 'What screams \"I\\'m emotionally unstable\"?', 'What is an imminent danger that nobody seems to be talking about?', 'What is the worst purchase you ever made?', \"What's the WORST name for a strip club you can imagine?\", 'What skills can a poor 19 y/o learn to help make an income and get further in life?', 'What’s something that you only do because it’s socially standard?', 'What saying from a movie or television show do you find yourself using in everyday life, even though you wind up having to explain it afterwards?', 'What mildly illegal thing do you do?', 'What do you regret doing at university?', 'What song fills you with the most emotions (positive or negative) and why?', 'What game have you spent the most hours playing?', 'Which artist has the fakest public image?', 'Americans, how do high schools as portrayed in Hollywood teen movies compare to your high school in real life?', 'What is a common internet thing that you hate?']\n"
     ]
    }
   ],
   "source": [
    "print(cleaned_questions[:20])"
   ]
  },
  {
   "cell_type": "code",
   "execution_count": 11,
   "metadata": {
    "collapsed": true
   },
   "outputs": [],
   "source": [
    "reddit_ques = open('reddit_ques.txt', 'w')\n",
    "for ques in cleaned_questions:\n",
    "    reddit_ques.write(\"%s\\n\"%ques)"
   ]
  }
 ],
 "metadata": {
  "kernelspec": {
   "display_name": "Python 3",
   "language": "python",
   "name": "python3"
  },
  "language_info": {
   "codemirror_mode": {
    "name": "ipython",
    "version": 3
   },
   "file_extension": ".py",
   "mimetype": "text/x-python",
   "name": "python",
   "nbconvert_exporter": "python",
   "pygments_lexer": "ipython3",
   "version": "3.6.1"
  }
 },
 "nbformat": 4,
 "nbformat_minor": 2
}
